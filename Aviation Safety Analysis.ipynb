{
 "cells": [
  {
   "cell_type": "markdown",
   "metadata": {},
   "source": [
    "# **Aviation Safety Analysis: Identifying Low-Risk Aircraft for Business Expansion**\n",
    "___"
   ]
  },
  {
   "cell_type": "markdown",
   "metadata": {},
   "source": [
    "### **Objective**\n",
    "Our company is expanding into the aviation industry but lacks insights into aircraft safety risks. This project aims to analyze aviation accident data to determine which aircraft pose the lowest risk, providing data-driven recommendations for strategic decision-making.\n",
    "\n",
    "### **Project Breakdown**\n",
    "To achieve this objective, we will:\n",
    "1. **Clean and preprocess the data** – Handle missing values and inconsistencies.\n",
    "2. **Explore trends and patterns** – Identify factors contributing to accidents.\n",
    "3. **Perform risk assessment** – Determine which aircraft have the safest records.\n",
    "4. **Generate visualizations** – Communicate findings effectively.\n",
    "5. **Provide business recommendations** – Translate insights into actionable decisions.\n",
    "\n",
    "### **Dataset Overview**\n",
    "We will use two datasets from the National Transportation Safety Board (NTSB):\n",
    "\n",
    "#### **1. Aviation Accident Data (`df1`)**\n",
    "- **Number of Rows:** 88,889  \n",
    "- **Number of Columns:** 31  \n",
    "- **Key Features:**  \n",
    "  - **Event details** – Date, location, severity, phase of flight.  \n",
    "  - **Aircraft information** – Make, model, category, engine type.  \n",
    "  - **Injury data** – Fatal, serious, minor injuries.  \n",
    "  - **Weather conditions** – Visibility, weather impact on accidents.  \n",
    "\n",
    "#### **2. U.S. State Codes (`df2`)**\n",
    "- **Number of Rows:** 62  \n",
    "- **Number of Columns:** 2  \n",
    "- **Key Features:**  \n",
    "  - **US_State** – Full state names.  \n",
    "  - **Abbreviation** – Standard two-letter state codes. \n",
    "\n",
    "### **Next Steps....**\n",
    "We will now proceed with data exploration and cleaning to uncover meaningful insights. \n",
    "___"
   ]
  },
  {
   "cell_type": "markdown",
   "metadata": {},
   "source": [
    "### "
   ]
  },
  {
   "cell_type": "markdown",
   "metadata": {},
   "source": [
    "## Importing Libraries and Loading Our Datasets\n",
    "\n",
    "To begin our analysis, we import key Python libraries that will help us manipulate data and create visualizations:  \n",
    "- **pandas (`pd`)** – For data manipulation and analysis.  \n",
    "- **numpy (`np`)** – For numerical operations.  \n",
    "- **matplotlib (`plt`)** – For basic data visualization.  \n",
    "- **seaborn (`sns`)** – For enhanced statistical visualizations.  \n",
    "\n",
    "We then load our datasets:  \n",
    "- `df1`: The **Aviation Accident Data** file (`AviationData.csv`), which contains detailed information on aviation accidents.  \n",
    "- `df2`: The **U.S. State Codes** file (`USState_Codes.csv`), which contains selected incidents in the United States and international waters.  \n",
    "\n",
    "We use `encoding='latin-1'` to handle special characters and `low_memory=False` to optimize performance when loading `df1`, as it is a large dataset.  \n"
   ]
  },
  {
   "cell_type": "code",
   "execution_count": 18,
   "metadata": {},
   "outputs": [],
   "source": [
    "#importing all the necessary libraries to ensure my code runs efficiently \n",
    "\n",
    "import pandas as pd \n",
    "import numpy as np \n",
    "import matplotlib.pyplot as plt \n",
    "import seaborn as sns \n",
    "\n",
    "#Opening and reading the files whose data I will be utilizing \n",
    "\n",
    "df1 = pd.read_csv('AviationData.csv', encoding ='latin-1', low_memory=False)\n",
    "\n",
    "df2 = pd.read_csv('USState_Codes.csv')"
   ]
  },
  {
   "cell_type": "code",
   "execution_count": 24,
   "metadata": {},
   "outputs": [
    {
     "data": {
      "text/plain": [
       "Index(['US_State', 'Abbreviation'], dtype='object')"
      ]
     },
     "execution_count": 24,
     "metadata": {},
     "output_type": "execute_result"
    }
   ],
   "source": [
    "df2.columns"
   ]
  },
  {
   "cell_type": "code",
   "execution_count": null,
   "metadata": {},
   "outputs": [],
   "source": []
  }
 ],
 "metadata": {
  "kernelspec": {
   "display_name": "learn-env",
   "language": "python",
   "name": "python3"
  },
  "language_info": {
   "codemirror_mode": {
    "name": "ipython",
    "version": 3
   },
   "file_extension": ".py",
   "mimetype": "text/x-python",
   "name": "python",
   "nbconvert_exporter": "python",
   "pygments_lexer": "ipython3",
   "version": "3.8.5"
  }
 },
 "nbformat": 4,
 "nbformat_minor": 2
}
